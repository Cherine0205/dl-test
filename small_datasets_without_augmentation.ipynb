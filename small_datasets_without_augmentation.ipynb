{
 "cells": [
  {
   "cell_type": "code",
   "execution_count": 1,
   "id": "5f50cc70",
   "metadata": {},
   "outputs": [
    {
     "data": {
      "text/plain": [
       "'2.4.3'"
      ]
     },
     "execution_count": 1,
     "metadata": {},
     "output_type": "execute_result"
    }
   ],
   "source": [
    "import keras\n",
    "keras.__version__"
   ]
  },
  {
   "cell_type": "code",
   "execution_count": 2,
   "id": "f2f381cc",
   "metadata": {},
   "outputs": [],
   "source": [
    "import os, shutil"
   ]
  },
  {
   "cell_type": "code",
   "execution_count": 4,
   "id": "a9c8c4e2",
   "metadata": {},
   "outputs": [],
   "source": [
    "# The path to the directory where the original\n",
    "# dataset was uncompressed\n",
    "original_dataset_dir = 'C:/Users/24710/Downloads/pyspace/deeplearningtest/deep-learning-with-python-notebooks-master/train'\n",
    "\n",
    "# The directory where we will store our smaller dataset\n",
    "base_dir = 'C:/Users/24710/Downloads/pyspace/deeplearningtest/deep-learning-with-python-notebooks-master/dog_cat_small_dataset'\n",
    "os.mkdir(base_dir)"
   ]
  },
  {
   "cell_type": "code",
   "execution_count": 5,
   "id": "bef9c696",
   "metadata": {},
   "outputs": [],
   "source": [
    "train_dir = os.path.join(base_dir, 'train')\n",
    "os.mkdir(train_dir)\n",
    "validation_dir = os.path.join(base_dir, 'validation')\n",
    "os.mkdir(validation_dir)\n",
    "test_dir = os.path.join(base_dir, 'test')\n",
    "os.mkdir(test_dir)"
   ]
  },
  {
   "cell_type": "code",
   "execution_count": 6,
   "id": "00e485e5",
   "metadata": {},
   "outputs": [],
   "source": [
    "# Directory with our training cat pictures\n",
    "train_cats_dir = os.path.join(train_dir, 'cats')\n",
    "os.mkdir(train_cats_dir)\n",
    "\n",
    "# Directory with our training dog pictures\n",
    "train_dogs_dir = os.path.join(train_dir, 'dogs')\n",
    "os.mkdir(train_dogs_dir)\n",
    "\n",
    "# Directory with our validation cat pictures\n",
    "validation_cats_dir = os.path.join(validation_dir, 'cats')\n",
    "os.mkdir(validation_cats_dir)\n",
    "\n",
    "# Directory with our validation dog pictures\n",
    "validation_dogs_dir = os.path.join(validation_dir, 'dogs')\n",
    "os.mkdir(validation_dogs_dir)\n",
    "\n",
    "# Directory with our validation cat pictures\n",
    "test_cats_dir = os.path.join(test_dir, 'cats')\n",
    "os.mkdir(test_cats_dir)\n",
    "\n",
    "# Directory with our validation dog pictures\n",
    "test_dogs_dir = os.path.join(test_dir, 'dogs')\n",
    "os.mkdir(test_dogs_dir)"
   ]
  },
  {
   "cell_type": "code",
   "execution_count": 7,
   "id": "5de5c3cd",
   "metadata": {},
   "outputs": [],
   "source": [
    "# Copy first 1000 cat images to train_cats_dir\n",
    "fnames = ['cat.{}.jpg'.format(i) for i in range(1000)]\n",
    "for fname in fnames:\n",
    "    src = os.path.join(original_dataset_dir, fname)\n",
    "    dst = os.path.join(train_cats_dir, fname)\n",
    "    shutil.copyfile(src, dst)\n",
    "\n",
    "# Copy next 500 cat images to validation_cats_dir\n",
    "fnames = ['cat.{}.jpg'.format(i) for i in range(1000, 1500)]\n",
    "for fname in fnames:\n",
    "    src = os.path.join(original_dataset_dir, fname)\n",
    "    dst = os.path.join(validation_cats_dir, fname)\n",
    "    shutil.copyfile(src, dst)\n",
    "    \n",
    "# Copy next 500 cat images to test_cats_dir\n",
    "fnames = ['cat.{}.jpg'.format(i) for i in range(1500, 2000)]\n",
    "for fname in fnames:\n",
    "    src = os.path.join(original_dataset_dir, fname)\n",
    "    dst = os.path.join(test_cats_dir, fname)\n",
    "    shutil.copyfile(src, dst)\n",
    "    \n",
    "# Copy first 1000 dog images to train_dogs_dir\n",
    "fnames = ['dog.{}.jpg'.format(i) for i in range(1000)]\n",
    "for fname in fnames:\n",
    "    src = os.path.join(original_dataset_dir, fname)\n",
    "    dst = os.path.join(train_dogs_dir, fname)\n",
    "    shutil.copyfile(src, dst)\n",
    "    \n",
    "# Copy next 500 dog images to validation_dogs_dir\n",
    "fnames = ['dog.{}.jpg'.format(i) for i in range(1000, 1500)]\n",
    "for fname in fnames:\n",
    "    src = os.path.join(original_dataset_dir, fname)\n",
    "    dst = os.path.join(validation_dogs_dir, fname)\n",
    "    shutil.copyfile(src, dst)\n",
    "    \n",
    "# Copy next 500 dog images to test_dogs_dir\n",
    "fnames = ['dog.{}.jpg'.format(i) for i in range(1500, 2000)]\n",
    "for fname in fnames:\n",
    "    src = os.path.join(original_dataset_dir, fname)\n",
    "    dst = os.path.join(test_dogs_dir, fname)\n",
    "    shutil.copyfile(src, dst)"
   ]
  },
  {
   "cell_type": "code",
   "execution_count": 8,
   "id": "e2657372",
   "metadata": {},
   "outputs": [],
   "source": [
    "from keras import layers\n",
    "from keras import models\n",
    "\n",
    "model = models.Sequential()\n",
    "model.add(layers.Conv2D(32, (3, 3), activation='relu',\n",
    "                        input_shape=(150, 150, 3)))\n",
    "model.add(layers.MaxPooling2D((2, 2)))\n",
    "model.add(layers.Conv2D(64, (3, 3), activation='relu'))\n",
    "model.add(layers.MaxPooling2D((2, 2)))\n",
    "model.add(layers.Conv2D(128, (3, 3), activation='relu'))\n",
    "model.add(layers.MaxPooling2D((2, 2)))\n",
    "model.add(layers.Conv2D(128, (3, 3), activation='relu'))\n",
    "model.add(layers.MaxPooling2D((2, 2)))\n",
    "model.add(layers.Flatten())\n",
    "model.add(layers.Dense(512, activation='relu'))\n",
    "model.add(layers.Dense(1, activation='sigmoid'))"
   ]
  },
  {
   "cell_type": "code",
   "execution_count": 9,
   "id": "e7cee8b9",
   "metadata": {},
   "outputs": [
    {
     "name": "stdout",
     "output_type": "stream",
     "text": [
      "Model: \"sequential\"\n",
      "_________________________________________________________________\n",
      "Layer (type)                 Output Shape              Param #   \n",
      "=================================================================\n",
      "conv2d (Conv2D)              (None, 148, 148, 32)      896       \n",
      "_________________________________________________________________\n",
      "max_pooling2d (MaxPooling2D) (None, 74, 74, 32)        0         \n",
      "_________________________________________________________________\n",
      "conv2d_1 (Conv2D)            (None, 72, 72, 64)        18496     \n",
      "_________________________________________________________________\n",
      "max_pooling2d_1 (MaxPooling2 (None, 36, 36, 64)        0         \n",
      "_________________________________________________________________\n",
      "conv2d_2 (Conv2D)            (None, 34, 34, 128)       73856     \n",
      "_________________________________________________________________\n",
      "max_pooling2d_2 (MaxPooling2 (None, 17, 17, 128)       0         \n",
      "_________________________________________________________________\n",
      "conv2d_3 (Conv2D)            (None, 15, 15, 128)       147584    \n",
      "_________________________________________________________________\n",
      "max_pooling2d_3 (MaxPooling2 (None, 7, 7, 128)         0         \n",
      "_________________________________________________________________\n",
      "flatten (Flatten)            (None, 6272)              0         \n",
      "_________________________________________________________________\n",
      "dense (Dense)                (None, 512)               3211776   \n",
      "_________________________________________________________________\n",
      "dense_1 (Dense)              (None, 1)                 513       \n",
      "=================================================================\n",
      "Total params: 3,453,121\n",
      "Trainable params: 3,453,121\n",
      "Non-trainable params: 0\n",
      "_________________________________________________________________\n"
     ]
    }
   ],
   "source": [
    "model.summary()"
   ]
  },
  {
   "cell_type": "code",
   "execution_count": 10,
   "id": "39fad57c",
   "metadata": {},
   "outputs": [],
   "source": [
    "from keras import optimizers\n",
    "\n",
    "model.compile(loss='binary_crossentropy',\n",
    "              optimizer=optimizers.RMSprop(lr=1e-4),\n",
    "              metrics=['acc'])"
   ]
  },
  {
   "cell_type": "code",
   "execution_count": 11,
   "id": "992d9701",
   "metadata": {},
   "outputs": [
    {
     "name": "stdout",
     "output_type": "stream",
     "text": [
      "Found 2000 images belonging to 2 classes.\n",
      "Found 1000 images belonging to 2 classes.\n"
     ]
    }
   ],
   "source": [
    "from keras.preprocessing.image import ImageDataGenerator\n",
    "\n",
    "# All images will be rescaled by 1./255\n",
    "train_datagen = ImageDataGenerator(rescale=1./255)\n",
    "test_datagen = ImageDataGenerator(rescale=1./255)\n",
    "\n",
    "train_generator = train_datagen.flow_from_directory(\n",
    "        # This is the target directory\n",
    "        train_dir,\n",
    "        # All images will be resized to 150x150\n",
    "        target_size=(150, 150),\n",
    "        batch_size=20,\n",
    "        # Since we use binary_crossentropy loss, we need binary labels\n",
    "        class_mode='binary')\n",
    "\n",
    "validation_generator = test_datagen.flow_from_directory(\n",
    "        validation_dir,\n",
    "        target_size=(150, 150),\n",
    "        batch_size=20,\n",
    "        class_mode='binary')"
   ]
  },
  {
   "cell_type": "code",
   "execution_count": 12,
   "id": "8d25024e",
   "metadata": {},
   "outputs": [
    {
     "name": "stdout",
     "output_type": "stream",
     "text": [
      "WARNING:tensorflow:From <ipython-input-12-a7acfc8093a4>:1: Model.fit_generator (from tensorflow.python.keras.engine.training) is deprecated and will be removed in a future version.\n",
      "Instructions for updating:\n",
      "Please use Model.fit, which supports generators.\n",
      "Epoch 1/30\n",
      "  1/100 [..............................] - ETA: 0s - loss: 0.6866 - acc: 0.6500WARNING:tensorflow:Callbacks method `on_train_batch_end` is slow compared to the batch time (batch time: 0.0110s vs `on_train_batch_end` time: 0.0210s). Check your callbacks.\n",
      "100/100 [==============================] - 8s 78ms/step - loss: 0.6926 - acc: 0.5225 - val_loss: 0.6838 - val_acc: 0.5530A:\n",
      "Epoch 2/30\n",
      "100/100 [==============================] - 7s 69ms/step - loss: 0.6631 - acc: 0.5985 - val_loss: 0.6399 - val_acc: 0.6390\n",
      "Epoch 3/30\n",
      "100/100 [==============================] - 7s 69ms/step - loss: 0.6049 - acc: 0.6670 - val_loss: 0.6074 - val_acc: 0.6610\n",
      "Epoch 4/30\n",
      "100/100 [==============================] - 7s 68ms/step - loss: 0.5673 - acc: 0.7085 - val_loss: 0.5960 - val_acc: 0.6810\n",
      "Epoch 5/30\n",
      "100/100 [==============================] - 7s 69ms/step - loss: 0.5305 - acc: 0.7300 - val_loss: 0.5976 - val_acc: 0.6840\n",
      "Epoch 6/30\n",
      "100/100 [==============================] - 7s 68ms/step - loss: 0.5015 - acc: 0.7545 - val_loss: 0.5726 - val_acc: 0.6930\n",
      "Epoch 7/30\n",
      "100/100 [==============================] - 7s 72ms/step - loss: 0.4770 - acc: 0.7705 - val_loss: 0.5408 - val_acc: 0.7220\n",
      "Epoch 8/30\n",
      "100/100 [==============================] - 7s 71ms/step - loss: 0.4492 - acc: 0.7870 - val_loss: 0.5515 - val_acc: 0.7190\n",
      "Epoch 9/30\n",
      "100/100 [==============================] - 7s 70ms/step - loss: 0.4230 - acc: 0.8055 - val_loss: 0.5373 - val_acc: 0.7340\n",
      "Epoch 10/30\n",
      "100/100 [==============================] - 7s 69ms/step - loss: 0.3976 - acc: 0.8250 - val_loss: 0.5955 - val_acc: 0.7000\n",
      "Epoch 11/30\n",
      "100/100 [==============================] - 7s 68ms/step - loss: 0.3671 - acc: 0.8350 - val_loss: 0.5509 - val_acc: 0.7300\n",
      "Epoch 12/30\n",
      "100/100 [==============================] - 7s 68ms/step - loss: 0.3478 - acc: 0.8500 - val_loss: 0.5506 - val_acc: 0.7390\n",
      "Epoch 13/30\n",
      "100/100 [==============================] - 7s 70ms/step - loss: 0.3292 - acc: 0.8525 - val_loss: 0.5790 - val_acc: 0.7380\n",
      "Epoch 14/30\n",
      "100/100 [==============================] - 7s 72ms/step - loss: 0.3105 - acc: 0.8635 - val_loss: 0.5539 - val_acc: 0.7400\n",
      "Epoch 15/30\n",
      "100/100 [==============================] - 7s 68ms/step - loss: 0.2857 - acc: 0.8830 - val_loss: 0.6140 - val_acc: 0.7210\n",
      "Epoch 16/30\n",
      "100/100 [==============================] - 7s 70ms/step - loss: 0.2561 - acc: 0.8930 - val_loss: 0.7288 - val_acc: 0.7010\n",
      "Epoch 17/30\n",
      "100/100 [==============================] - 7s 71ms/step - loss: 0.2387 - acc: 0.9090 - val_loss: 0.6037 - val_acc: 0.7430\n",
      "Epoch 18/30\n",
      "100/100 [==============================] - 7s 74ms/step - loss: 0.2170 - acc: 0.9160 - val_loss: 0.6018 - val_acc: 0.7460\n",
      "Epoch 19/30\n",
      "100/100 [==============================] - 7s 74ms/step - loss: 0.1975 - acc: 0.9315 - val_loss: 0.6797 - val_acc: 0.7270\n",
      "Epoch 20/30\n",
      "100/100 [==============================] - 7s 70ms/step - loss: 0.1732 - acc: 0.9425 - val_loss: 0.6687 - val_acc: 0.7270\n",
      "Epoch 21/30\n",
      "100/100 [==============================] - 7s 69ms/step - loss: 0.1556 - acc: 0.9420 - val_loss: 0.6540 - val_acc: 0.7450\n",
      "Epoch 22/30\n",
      "100/100 [==============================] - 7s 70ms/step - loss: 0.1370 - acc: 0.9530 - val_loss: 0.7321 - val_acc: 0.7440\n",
      "Epoch 23/30\n",
      "100/100 [==============================] - 7s 72ms/step - loss: 0.1230 - acc: 0.9625 - val_loss: 0.6925 - val_acc: 0.7500\n",
      "Epoch 24/30\n",
      "100/100 [==============================] - 7s 73ms/step - loss: 0.1094 - acc: 0.9625 - val_loss: 0.7725 - val_acc: 0.7220\n",
      "Epoch 25/30\n",
      "100/100 [==============================] - 7s 71ms/step - loss: 0.0920 - acc: 0.9740 - val_loss: 0.7519 - val_acc: 0.7490\n",
      "Epoch 26/30\n",
      "100/100 [==============================] - 7s 71ms/step - loss: 0.0829 - acc: 0.9750 - val_loss: 0.7897 - val_acc: 0.7420\n",
      "Epoch 27/30\n",
      "100/100 [==============================] - 7s 70ms/step - loss: 0.0650 - acc: 0.9840 - val_loss: 0.9113 - val_acc: 0.7340\n",
      "Epoch 28/30\n",
      "100/100 [==============================] - 7s 73ms/step - loss: 0.0586 - acc: 0.9860 - val_loss: 0.9101 - val_acc: 0.7380\n",
      "Epoch 29/30\n",
      "100/100 [==============================] - 7s 70ms/step - loss: 0.0538 - acc: 0.9855 - val_loss: 0.9233 - val_acc: 0.7280\n",
      "Epoch 30/30\n",
      "100/100 [==============================] - 7s 70ms/step - loss: 0.0482 - acc: 0.9875 - val_loss: 1.2335 - val_acc: 0.7220\n"
     ]
    }
   ],
   "source": [
    "history = model.fit_generator(\n",
    "      train_generator,\n",
    "      steps_per_epoch=100,\n",
    "      epochs=30,\n",
    "      validation_data=validation_generator,\n",
    "      validation_steps=50)"
   ]
  },
  {
   "cell_type": "code",
   "execution_count": 13,
   "id": "23e6123b",
   "metadata": {},
   "outputs": [],
   "source": [
    "model.save('cats_and_dogs_small_1.h5')"
   ]
  },
  {
   "cell_type": "code",
   "execution_count": null,
   "id": "02f6212b",
   "metadata": {},
   "outputs": [],
   "source": []
  }
 ],
 "metadata": {
  "kernelspec": {
   "display_name": "Python 3",
   "language": "python",
   "name": "python3"
  },
  "language_info": {
   "codemirror_mode": {
    "name": "ipython",
    "version": 3
   },
   "file_extension": ".py",
   "mimetype": "text/x-python",
   "name": "python",
   "nbconvert_exporter": "python",
   "pygments_lexer": "ipython3",
   "version": "3.8.8"
  }
 },
 "nbformat": 4,
 "nbformat_minor": 5
}
